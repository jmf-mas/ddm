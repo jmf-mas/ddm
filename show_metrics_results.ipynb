{
 "cells": [
  {
   "cell_type": "code",
   "execution_count": 20,
   "id": "cc7ed755",
   "metadata": {},
   "outputs": [],
   "source": [
    "import numpy as np\n",
    "from sklearn.metrics import classification_report\n",
    "import matplotlib.pyplot as plt\n",
    "from models.ddm import DDM\n",
    "from plots import redm\n",
    "from metrics import inversion_number"
   ]
  },
  {
   "cell_type": "code",
   "execution_count": 23,
   "id": "749c41dd",
   "metadata": {},
   "outputs": [],
   "source": [
    "score_0 = np.loadtxt(\"outputs/kdd_scores_val_ae_model_kdd_0.csv\", delimiter=\",\")\n",
    "score_1 = np.loadtxt(\"outputs/kdd_scores_val_ae_model_kdd_1.csv\", delimiter=\",\")\n",
    "score_2 = np.loadtxt(\"outputs/kdd_scores_val_ae_model_kdd_2.csv\", delimiter=\",\")\n",
    "score_3 = np.loadtxt(\"outputs/kdd_scores_val_ae_model_kdd_3.csv\", delimiter=\",\")\n",
    "score_4 = np.loadtxt(\"outputs/kdd_scores_val_ae_model_kdd_4.csv\", delimiter=\",\")"
   ]
  },
  {
   "cell_type": "code",
   "execution_count": 24,
   "id": "c5e4bfcd",
   "metadata": {},
   "outputs": [],
   "source": [
    "scores_kdd = np.concatenate((score_0.reshape(-1, 1), score_1.reshape(-1, 1), score_2.reshape(-1, 1),\n",
    "                            score_3.reshape(-1, 1), score_4.reshape(-1, 1)), axis=1)"
   ]
  },
  {
   "cell_type": "code",
   "execution_count": 25,
   "id": "7ec7bc91",
   "metadata": {},
   "outputs": [
    {
     "data": {
      "text/plain": [
       "(19687, 5)"
      ]
     },
     "execution_count": 25,
     "metadata": {},
     "output_type": "execute_result"
    }
   ],
   "source": [
    "scores_kdd.shape"
   ]
  },
  {
   "cell_type": "code",
   "execution_count": 26,
   "id": "84c0a7c6",
   "metadata": {},
   "outputs": [],
   "source": [
    "eta_0 = np.loadtxt(\"outputs/kdd_threshold_ae_model_kdd_0.csv\")\n",
    "eta_1 = np.loadtxt(\"outputs/kdd_threshold_ae_model_kdd_1.csv\")\n",
    "eta_2 = np.loadtxt(\"outputs/kdd_threshold_ae_model_kdd_2.csv\")\n",
    "eta_3 = np.loadtxt(\"outputs/kdd_threshold_ae_model_kdd_3.csv\")\n",
    "eta_4 = np.loadtxt(\"outputs/kdd_threshold_ae_model_kdd_4.csv\")"
   ]
  },
  {
   "cell_type": "code",
   "execution_count": 27,
   "id": "00d69121",
   "metadata": {},
   "outputs": [],
   "source": [
    "XY_val = np.loadtxt(\"data/kdd_val.csv\", delimiter=',')"
   ]
  },
  {
   "cell_type": "code",
   "execution_count": 28,
   "id": "f84db2b9",
   "metadata": {},
   "outputs": [],
   "source": [
    "y_val = XY_val[:, -1]"
   ]
  },
  {
   "cell_type": "code",
   "execution_count": 29,
   "id": "b50e1c10",
   "metadata": {},
   "outputs": [],
   "source": [
    "y_pred_0 = (score_0 > eta_0).astype(int)\n",
    "y_pred_1 = (score_1 > eta_1).astype(int)\n",
    "y_pred_2 = (score_2 > eta_2).astype(int)\n",
    "y_pred_3 = (score_3 > eta_3).astype(int)\n",
    "y_pred_4 = (score_4 > eta_4).astype(int)"
   ]
  },
  {
   "cell_type": "code",
   "execution_count": 30,
   "id": "be46ba72",
   "metadata": {},
   "outputs": [
    {
     "name": "stdout",
     "output_type": "stream",
     "text": [
      "              precision    recall  f1-score   support\n",
      "\n",
      "         0.0       0.60      0.62      0.61      5380\n",
      "         1.0       0.86      0.85      0.85     14307\n",
      "\n",
      "    accuracy                           0.79     19687\n",
      "   macro avg       0.73      0.74      0.73     19687\n",
      "weighted avg       0.79      0.79      0.79     19687\n",
      "\n",
      "              precision    recall  f1-score   support\n",
      "\n",
      "         0.0       0.60      0.58      0.59      5380\n",
      "         1.0       0.84      0.85      0.85     14307\n",
      "\n",
      "    accuracy                           0.78     19687\n",
      "   macro avg       0.72      0.72      0.72     19687\n",
      "weighted avg       0.78      0.78      0.78     19687\n",
      "\n",
      "              precision    recall  f1-score   support\n",
      "\n",
      "         0.0       0.62      0.52      0.57      5380\n",
      "         1.0       0.83      0.88      0.85     14307\n",
      "\n",
      "    accuracy                           0.78     19687\n",
      "   macro avg       0.72      0.70      0.71     19687\n",
      "weighted avg       0.77      0.78      0.77     19687\n",
      "\n",
      "              precision    recall  f1-score   support\n",
      "\n",
      "         0.0       0.62      0.56      0.59      5380\n",
      "         1.0       0.84      0.87      0.86     14307\n",
      "\n",
      "    accuracy                           0.79     19687\n",
      "   macro avg       0.73      0.71      0.72     19687\n",
      "weighted avg       0.78      0.79      0.78     19687\n",
      "\n",
      "              precision    recall  f1-score   support\n",
      "\n",
      "         0.0       0.62      0.58      0.60      5380\n",
      "         1.0       0.85      0.87      0.86     14307\n",
      "\n",
      "    accuracy                           0.79     19687\n",
      "   macro avg       0.73      0.72      0.73     19687\n",
      "weighted avg       0.78      0.79      0.79     19687\n",
      "\n"
     ]
    }
   ],
   "source": [
    "print(classification_report(y_val, y_pred_0))\n",
    "print(classification_report(y_val, y_pred_1))\n",
    "print(classification_report(y_val, y_pred_2))\n",
    "print(classification_report(y_val, y_pred_3))\n",
    "print(classification_report(y_val, y_pred_4))"
   ]
  },
  {
   "cell_type": "code",
   "execution_count": 31,
   "id": "1691f377",
   "metadata": {},
   "outputs": [],
   "source": [
    "eta = (eta_0 + eta_1 + eta_2 + eta_3 + eta_4)/5"
   ]
  },
  {
   "cell_type": "code",
   "execution_count": 32,
   "id": "272bee56",
   "metadata": {},
   "outputs": [],
   "source": [
    "mean_scores_kdd = np.mean(scores_kdd, axis=1)\n",
    "std_scores_kdd = np.std(scores_kdd, axis=1)"
   ]
  },
  {
   "cell_type": "code",
   "execution_count": 33,
   "id": "fe7eb312",
   "metadata": {},
   "outputs": [],
   "source": [
    "index_n = mean_scores_kdd < eta\n",
    "index_a = mean_scores_kdd >= eta\n",
    "normal_scores_kdd = mean_scores_kdd[index_n]"
   ]
  },
  {
   "cell_type": "code",
   "execution_count": 34,
   "id": "f09a0628",
   "metadata": {},
   "outputs": [],
   "source": [
    "ddm = DDM(scores_kdd, eta, d=0.6, phi=0.4)"
   ]
  },
  {
   "cell_type": "code",
   "execution_count": 35,
   "id": "5a70d4be",
   "metadata": {},
   "outputs": [],
   "source": [
    "(E_normal, S_normal, S_n, y_normal), (E_abnormal, S_abnormal, S_a, y_abnormal) = ddm.distribution_segments()"
   ]
  },
  {
   "cell_type": "code",
   "execution_count": 36,
   "id": "2214d241",
   "metadata": {},
   "outputs": [
    {
     "data": {
      "image/png": "[encoded data removed]",
      "text/plain": [
       "<Figure size 640x480 with 4 Axes>"
      ]
     },
     "metadata": {},
     "output_type": "display_data"
    }
   ],
   "source": [
    "redm((E_normal, S_normal, S_n, y_normal), (E_abnormal, S_abnormal, S_a, y_abnormal), \"test_kdd\")"
   ]
  },
  {
   "cell_type": "code",
   "execution_count": 37,
   "id": "0141d78e",
   "metadata": {},
   "outputs": [
    {
     "data": {
      "text/plain": [
       "(0.14539121777255487, 0.881090543871885, 0.51324088082222)"
      ]
     },
     "execution_count": 37,
     "metadata": {},
     "output_type": "execute_result"
    }
   ],
   "source": [
    "inversion_number(E_normal, S_normal, E_abnormal, S_abnormal, eta)"
   ]
  },
  {
   "cell_type": "code",
   "execution_count": 38,
   "id": "34680069",
   "metadata": {},
   "outputs": [
    {
     "data": {
      "text/plain": [
       "(0.09808862203125988, 0.7321334252208856, 0.4151110236260728)"
      ]
     },
     "execution_count": 38,
     "metadata": {},
     "output_type": "execute_result"
    }
   ],
   "source": [
    "inversion_number(E_normal, S_n, E_abnormal, S_a, eta)"
   ]
  },
  {
   "cell_type": "code",
   "execution_count": null,
   "id": "918aa7d4",
   "metadata": {},
   "outputs": [],
   "source": []
  }
 ],
 "metadata": {
  "kernelspec": {
   "display_name": "Python 3 (ipykernel)",
   "language": "python",
   "name": "python3"
  },
  "language_info": {
   "codemirror_mode": {
    "name": "ipython",
    "version": 3
   },
   "file_extension": ".py",
   "mimetype": "text/x-python",
   "name": "python",
   "nbconvert_exporter": "python",
   "pygments_lexer": "ipython3",
   "version": "3.8.10"
  }
 },
 "nbformat": 4,
 "nbformat_minor": 5
}
