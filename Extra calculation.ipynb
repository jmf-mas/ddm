{
 "cells": [
  {
   "cell_type": "code",
   "execution_count": 8,
   "id": "911c1452",
   "metadata": {},
   "outputs": [],
   "source": [
    "from metrics import effect_size, wilcoxon_test\n",
    "import numpy as np"
   ]
  },
  {
   "cell_type": "code",
   "execution_count": 9,
   "id": "c14a2fc6",
   "metadata": {},
   "outputs": [],
   "source": [
    "inversion_numbers = np.array([[0.53, 0.45], [0.55, 0.47], [0.67, 0.51], [0, 0],\n",
    "                    [0.48, 0.25], [0.54, 0.45], [0.66, 0.49], [0, 0.07],\n",
    "                    [0.72, 0.65], [0.72, 0.43], [0.73, 0.41], [0, 0]])"
   ]
  },
  {
   "cell_type": "code",
   "execution_count": 10,
   "id": "c2b0ae8a",
   "metadata": {},
   "outputs": [
    {
     "data": {
      "text/plain": [
       "0.5333333333333333"
      ]
     },
     "execution_count": 10,
     "metadata": {},
     "output_type": "execute_result"
    }
   ],
   "source": [
    "effect_size(inversion_numbers)"
   ]
  },
  {
   "cell_type": "code",
   "execution_count": 12,
   "id": "5f0ff336",
   "metadata": {},
   "outputs": [
    {
     "data": {
      "text/plain": [
       "0.009344113002204883"
      ]
     },
     "execution_count": 12,
     "metadata": {},
     "output_type": "execute_result"
    }
   ],
   "source": [
    "wilcoxon_test(inversion_numbers[:, 0], inversion_numbers[:, 1])"
   ]
  },
  {
   "cell_type": "code",
   "execution_count": null,
   "id": "320d9242",
   "metadata": {},
   "outputs": [],
   "source": []
  }
 ],
 "metadata": {
  "kernelspec": {
   "display_name": "Python 3 (ipykernel)",
   "language": "python",
   "name": "python3"
  },
  "language_info": {
   "codemirror_mode": {
    "name": "ipython",
    "version": 3
   },
   "file_extension": ".py",
   "mimetype": "text/x-python",
   "name": "python",
   "nbconvert_exporter": "python",
   "pygments_lexer": "ipython3",
   "version": "3.9.16"
  }
 },
 "nbformat": 4,
 "nbformat_minor": 5
}
